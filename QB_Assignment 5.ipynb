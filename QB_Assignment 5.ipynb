{
 "cells": [
  {
   "cell_type": "markdown",
   "metadata": {},
   "source": [
    "<h4>1- Python program to reverse a Queue using recursion\n",
    "</h4>"
   ]
  },
  {
   "cell_type": "code",
   "execution_count": 1,
   "metadata": {},
   "outputs": [
    {
     "name": "stdout",
     "output_type": "stream",
     "text": [
      "[9, 3, 4, 2, 8, 1, 6, 7]\n"
     ]
    }
   ],
   "source": [
    "temp_stack = []\n",
    "\n",
    "def Reverse(main):\n",
    "    temp_stack.append(main.pop())\n",
    "    while main:\n",
    "        Reverse(main)\n",
    "\n",
    "    main = temp_stack\n",
    "    return main\n",
    "\n",
    "print(Reverse([7,6,1,8,2,4,3,9]))"
   ]
  },
  {
   "cell_type": "markdown",
   "metadata": {},
   "source": [
    "<h4>2- Python program to sort a Queue\n",
    "</h4>"
   ]
  },
  {
   "cell_type": "code",
   "execution_count": 2,
   "metadata": {},
   "outputs": [
    {
     "name": "stdout",
     "output_type": "stream",
     "text": [
      "[1, 3, 4, 5, 6, 7, 9]\n"
     ]
    }
   ],
   "source": [
    "def Sort(main):\n",
    "    temp = []\n",
    "    # while there are elements in main\n",
    "    while main:\n",
    "        # pick a pivot value\n",
    "        pivot = main.pop(0)\n",
    "        while temp and temp[-1] > pivot:\n",
    "            main.append(temp.pop())\n",
    "        temp.append(pivot)\n",
    "\n",
    "    main = temp\n",
    "        \n",
    "    print(main)\n",
    "\n",
    "Sort([9,5,7,4,3,1,6])"
   ]
  },
  {
   "cell_type": "markdown",
   "metadata": {},
   "source": [
    "<h4>3- Python program to sort a Stack\n",
    "</h4>"
   ]
  },
  {
   "cell_type": "code",
   "execution_count": 3,
   "metadata": {},
   "outputs": [
    {
     "name": "stdout",
     "output_type": "stream",
     "text": [
      "[0, 1, 2, 3, 5, 6, 7, 8]\n"
     ]
    }
   ],
   "source": [
    "def Sort(main):\n",
    "    temp = []\n",
    "    # while there are elements in main\n",
    "    while main:\n",
    "        # pick a pivot value\n",
    "        pivot = main.pop()\n",
    "        while temp and temp[-1] > pivot:\n",
    "            main.append(temp.pop())\n",
    "        temp.append(pivot)\n",
    "\n",
    "    main = temp\n",
    "        \n",
    "    print(main)\n",
    "\n",
    "Sort([6,2,5,8,7,3,1,0])"
   ]
  }
 ],
 "metadata": {
  "kernelspec": {
   "display_name": "Python 3",
   "language": "python",
   "name": "python3"
  },
  "language_info": {
   "codemirror_mode": {
    "name": "ipython",
    "version": 3
   },
   "file_extension": ".py",
   "mimetype": "text/x-python",
   "name": "python",
   "nbconvert_exporter": "python",
   "pygments_lexer": "ipython3",
   "version": "3.12.2"
  }
 },
 "nbformat": 4,
 "nbformat_minor": 2
}
